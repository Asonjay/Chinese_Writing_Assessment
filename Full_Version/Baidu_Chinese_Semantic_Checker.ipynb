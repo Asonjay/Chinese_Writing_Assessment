{
 "cells": [
  {
   "attachments": {},
   "cell_type": "markdown",
   "metadata": {},
   "source": [
    "# Baidu Cloud Chinese Semantic Checker\n",
    "\n",
    "This notebook is used to check the semantic of Chinese words. It is based on Baidu Cloud's API.\n",
    "\n",
    "Author: Zexin Xu, Zilu Zhang"
   ]
  },
  {
   "attachments": {},
   "cell_type": "markdown",
   "metadata": {},
   "source": [
    "## Data Preprocessing\n",
    "\n",
    "For this dataset only. Do not run this for other datasets. This section is only used for data preprocessing.\n",
    "\n",
    "* `tunit_df` includes tunits data\n",
    "* `sen_df` includes sentences data"
   ]
  },
  {
   "cell_type": "code",
   "execution_count": null,
   "metadata": {},
   "outputs": [],
   "source": [
    "import pandas as pd"
   ]
  },
  {
   "cell_type": "code",
   "execution_count": null,
   "metadata": {},
   "outputs": [],
   "source": [
    "df = pd.read_excel('mysen_edit.xlsx')  # read excel file\n",
    "df.drop(['say'], axis=1, inplace=True)  # drop column\n",
    "df.dropna(subset=['sentences', 'correct_final'], inplace=True) \n",
    "df = df.reset_index(drop=True)\n",
    "df['sentences'] = df['sentences'].str.replace(r'_x000D_\\n', '', regex=True)  # remove _x000D_\\n\n",
    "df['sentences'] = df['sentences'].str.replace(r'\\n', '', regex=True)  # remove \\n\n",
    "df.head()\n",
    "#NOTE Check if there is any empty cell in 'correct' or 'sen'\n",
    "# df['correct'].isnull().values.any()\n",
    "# df['sen'].isnull().values.any()"
   ]
  },
  {
   "cell_type": "code",
   "execution_count": null,
   "metadata": {},
   "outputs": [],
   "source": [
    "tunit_df = pd.DataFrame({\n",
    "    'sentence': df['sentences'], \n",
    "    'ground_truth_label': df['correct_final']\n",
    "})\n",
    "tunit_df.head()"
   ]
  },
  {
   "cell_type": "code",
   "execution_count": null,
   "metadata": {},
   "outputs": [],
   "source": [
    "sent = \"\"\n",
    "correct = True\n",
    "sent_arr = []\n",
    "correct_arr = []\n",
    "for i, row in df.iterrows():\n",
    "    sent += row['sentences']\n",
    "    correct = correct and row['correct_final']\n",
    "    if row['sen'] == 0:\n",
    "        sent += \"，\"\n",
    "    else:\n",
    "        sent += \"。\"\n",
    "        sent.replace(\"_x000D_\\n\", \"\")\n",
    "        sent_arr.append(sent)\n",
    "        correct_arr.append(correct)\n",
    "        # reset\n",
    "        sent = \"\"\n",
    "        correct = True\n",
    "        \n",
    "sen_df = pd.DataFrame({\n",
    "    'sentence': sent_arr, \n",
    "    'ground_truth_label': correct_arr\n",
    "})\n",
    "sen_df.head()  "
   ]
  },
  {
   "attachments": {},
   "cell_type": "markdown",
   "metadata": {},
   "source": [
    "## Baidu API"
   ]
  },
  {
   "cell_type": "code",
   "execution_count": null,
   "metadata": {},
   "outputs": [],
   "source": [
    "import requests\n",
    "import json\n",
    "\n",
    "API_key = \"\"\n",
    "Secret_key = \"\"\n",
    "\n",
    "\n",
    "def get_access_token():\n",
    "    \"\"\"\n",
    "    使用 AK，SK 生成鉴权签名（Access Token）\n",
    "    :return: access_token，或是None(如果错误)\n",
    "    \"\"\"\n",
    "    url = \"https://aip.baidubce.com/oauth/2.0/token\"\n",
    "    params = {\"grant_type\": \"client_credentials\", \"client_id\": API_KEY, \"client_secret\": SECRET_KEY}\n",
    "    return str(requests.post(url, params=params).json().get(\"access_token\"))\n",
    "\n",
    "access_token = get_access_token()"
   ]
  },
  {
   "cell_type": "code",
   "execution_count": null,
   "metadata": {},
   "outputs": [],
   "source": [
    "baidu_tunit_df = sen_df.copy()\n",
    "\n",
    "url = \"https://aip.baidubce.com/rpc/2.0/nlp/v1/ecnet?charset=UTF-8&access_token=\" + access_token\n",
    "\n",
    "headers = {\n",
    "    'Content-Type': 'application/json',\n",
    "    'Accept': 'application/json'\n",
    "}\n",
    "\n",
    "for i, row in baidu_tunit_df.loc[:, :].iterrows():\n",
    "    payload = json.dumps({\n",
    "        \"text\": row['sentences']\n",
    "    })\n",
    "    response = requests.request(\"POST\", url, headers=headers, data=payload).json()\n",
    "    baidu_tunit_df.loc[i, \"纠错内容\"] = str(response['item']['vec_fragment'])\n",
    "    if response['item']['score'] > 0:\n",
    "        baidu_tunit_df.loc[i, \"纠错结果\"] = 0\n",
    "    else:\n",
    "        baidu_tunit_df.loc[i, \"纠错结果\"] = 1\n",
    "    if i % 50 == 0:\n",
    "        print(i, \"iters done...\")\n",
    "\n",
    "baidu_tunit_df.to_csv('baidu/sen_df_result.csv', index=False, encoding='utf-8-sig')"
   ]
  },
  {
   "attachments": {},
   "cell_type": "markdown",
   "metadata": {},
   "source": [
    "## Result preprocessing"
   ]
  },
  {
   "cell_type": "code",
   "execution_count": 6,
   "metadata": {},
   "outputs": [],
   "source": [
    "baidu_tunit_df = pd.read_csv('baidu/tunit_df_result.csv', encoding='utf-8-sig')\n",
    "baidu_sen_df = pd.read_csv('baidu/sen_df_result.csv', encoding='utf-8-sig')\n",
    "\n",
    "baidu_tunit_df['ground_truth_label'] = tunit_df['ground_truth_label']\n",
    "baidu_sen_df['ground_truth_label'] = sen_df['ground_truth_label']\n",
    "\n",
    "baidu_tunit_df.to_csv('baidu/tunit_df_result_mod.csv', index=False, encoding='utf-8-sig')\n",
    "baidu_sen_df.to_csv('baidu/sen_df_result_mod.csv', index=False, encoding='utf-8-sig')"
   ]
  },
  {
   "attachments": {},
   "cell_type": "markdown",
   "metadata": {},
   "source": [
    "## Confusion Matrix"
   ]
  },
  {
   "cell_type": "code",
   "execution_count": null,
   "metadata": {},
   "outputs": [],
   "source": [
    "def print_evaluation(golds, predictions):\n",
    "    \"\"\"\n",
    "    Prints evaluation statistics comparing golds and predictions, each of which is a sequence of 0/1 labels.\n",
    "    Prints accuracy as well as precision/recall/F1 of the positive class, which can sometimes be informative if either\n",
    "    the golds or predictions are highly biased.\n",
    "\n",
    "    :param golds: gold labels\n",
    "    :param predictions: pred labels\n",
    "    :return:\n",
    "    \"\"\"\n",
    "    num_correct = 0\n",
    "    num_pos_correct = 0\n",
    "    num_pred = 0\n",
    "    num_gold = 0\n",
    "    num_total = 0\n",
    "    if len(golds) != len(predictions):\n",
    "        raise Exception(\"Mismatched gold/pred lengths: %i / %i\" % (len(golds), len(predictions)))\n",
    "    for idx in range(0, len(golds)):\n",
    "        gold = golds[idx]\n",
    "        prediction = predictions[idx]\n",
    "        if prediction == gold:\n",
    "            num_correct += 1\n",
    "        if prediction == 1:\n",
    "            num_pred += 1\n",
    "        if gold == 1:\n",
    "            num_gold += 1\n",
    "        if prediction == 1 and gold == 1:\n",
    "            num_pos_correct += 1\n",
    "        num_total += 1\n",
    "    acc = float(num_correct) / num_total\n",
    "    output_str = \"Accuracy: %i / %i = %f\" % (num_correct, num_total, acc)\n",
    "    prec = float(num_pos_correct) / num_pred if num_pred > 0 else 0.0\n",
    "    rec = float(num_pos_correct) / num_gold if num_gold > 0 else 0.0\n",
    "    f1 = 2 * prec * rec / (prec + rec) if prec > 0 and rec > 0 else 0.0\n",
    "    output_str += \";\\nPrecision (fraction of predicted positives that are correct): %i / %i = %f\" % (num_pos_correct, num_pred, prec)\n",
    "    output_str += \";\\nRecall (fraction of true positives predicted correctly): %i / %i = %f\" % (num_pos_correct, num_gold, rec)\n",
    "    output_str += \";\\nF1 (harmonic mean of precision and recall): %f;\\n\" % f1\n",
    "    return output_str\n",
    "\n",
    "print(\"------ Tunit Evaluation ------\")\n",
    "print(print_evaluation(baidu_tunit_df['ground_truth_label'], baidu_tunit_df['纠错结果']))\n",
    "print(\"------ Sentence Evaluation ------\")\n",
    "print(print_evaluation(baidu_sen_df['ground_truth_label'], baidu_sen_df['纠错结果']))"
   ]
  }
 ],
 "metadata": {
  "kernelspec": {
   "display_name": "Python 3",
   "language": "python",
   "name": "python3"
  },
  "language_info": {
   "codemirror_mode": {
    "name": "ipython",
    "version": 3
   },
   "file_extension": ".py",
   "mimetype": "text/x-python",
   "name": "python",
   "nbconvert_exporter": "python",
   "pygments_lexer": "ipython3",
   "version": "3.9.10"
  },
  "orig_nbformat": 4,
  "vscode": {
   "interpreter": {
    "hash": "75273f6ed8af91899ebc591bf6ae2fd0716c5db2515d7097a000123632f4e53a"
   }
  }
 },
 "nbformat": 4,
 "nbformat_minor": 2
}
