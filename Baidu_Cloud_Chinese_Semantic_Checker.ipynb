{
 "cells": [
  {
   "attachments": {},
   "cell_type": "markdown",
   "metadata": {},
   "source": [
    "# Baidu Cloud Chinese Semantic Checker\n",
    "\n",
    "This notebook is used to check the semantic of Chinese language unit. It is based on Baidu Cloud's API.\n",
    "\n",
    "Author: Zexin Xu, Zilu Zhang"
   ]
  },
  {
   "attachments": {},
   "cell_type": "markdown",
   "metadata": {},
   "source": [
    "## Baidu Cloud API\n",
    "\n",
    "This snippet invloves the Baidu API. `API_key` and `Secret_key` are deleted for security reasons. Please use your own API key and secret key. For more details of the usage of Baidu API, please refer to [Baidu Cloud API](https://cloud.baidu.com/doc/NLP/s/tk6z52czc). If you are a English user, there is a language switch button on the top right corner."
   ]
  },
  {
   "cell_type": "code",
   "execution_count": null,
   "metadata": {},
   "outputs": [],
   "source": [
    "import pandas as pd\n",
    "import requests\n",
    "import json\n",
    "\n",
    "API_key = \"\"\n",
    "Secret_key = \"\""
   ]
  },
  {
   "cell_type": "code",
   "execution_count": null,
   "metadata": {},
   "outputs": [],
   "source": [
    "def get_access_token():\n",
    "    \"\"\"\n",
    "    使用 AK，SK 生成鉴权签名（Access Token）\n",
    "    :return: access_token，或是None(如果错误)\n",
    "    \"\"\"\n",
    "    url = \"https://aip.baidubce.com/oauth/2.0/token\"\n",
    "    params = {\"grant_type\": \"client_credentials\", \"client_id\": API_KEY, \"client_secret\": SECRET_KEY}\n",
    "    return str(requests.post(url, params=params).json().get(\"access_token\"))\n",
    "\n",
    "access_token = get_access_token()"
   ]
  },
  {
   "cell_type": "code",
   "execution_count": null,
   "metadata": {},
   "outputs": [],
   "source": [
    "#NOTE Put your dataframes here, and modify the column names accordingly\n",
    "baidu_df = pd.DataFrame()"
   ]
  },
  {
   "cell_type": "code",
   "execution_count": null,
   "metadata": {},
   "outputs": [],
   "source": [
    "url = \"https://aip.baidubce.com/rpc/2.0/nlp/v1/ecnet?charset=UTF-8&access_token=\" + access_token\n",
    "\n",
    "headers = {\n",
    "    'Content-Type': 'application/json',\n",
    "    'Accept': 'application/json'\n",
    "}\n",
    "\n",
    "for i, row in baidu_df.loc[:, :].iterrows():\n",
    "    payload = json.dumps({\n",
    "        \"text\": row['sentences']\n",
    "    })\n",
    "    response = requests.request(\"POST\", url, headers=headers, data=payload).json()\n",
    "    baidu_df.loc[i, \"content\"] = str(response['item']['vec_fragment'])\n",
    "    if response['item']['score'] > 0:\n",
    "        baidu_df.loc[i, \"result\"] = 0\n",
    "    else:\n",
    "        baidu_df.loc[i, \"result\"] = 1\n",
    "    if i % 50 == 0:\n",
    "        print(i, \"iters done...\")\n",
    "\n",
    "baidu_df.to_csv('baidu/sen_df_result.csv', index=False, encoding='utf-8-sig')"
   ]
  }
 ],
 "metadata": {
  "kernelspec": {
   "display_name": "Python 3",
   "language": "python",
   "name": "python3"
  },
  "language_info": {
   "codemirror_mode": {
    "name": "ipython",
    "version": 3
   },
   "file_extension": ".py",
   "mimetype": "text/x-python",
   "name": "python",
   "nbconvert_exporter": "python",
   "pygments_lexer": "ipython3",
   "version": "3.9.10"
  },
  "orig_nbformat": 4,
  "vscode": {
   "interpreter": {
    "hash": "75273f6ed8af91899ebc591bf6ae2fd0716c5db2515d7097a000123632f4e53a"
   }
  }
 },
 "nbformat": 4,
 "nbformat_minor": 2
}
